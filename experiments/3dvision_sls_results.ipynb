{
 "cells": [
  {
   "cell_type": "code",
   "execution_count": 1,
   "metadata": {},
   "outputs": [],
   "source": [
    "import numpy as np\n",
    "import intrinsic_triangulations_completed_tutorial as itri\n",
    "import trimesh\n",
    "import polyscope as ps"
   ]
  },
  {
   "cell_type": "code",
   "execution_count": 2,
   "metadata": {},
   "outputs": [],
   "source": [
    "mesh_decimated = trimesh.load(\"meshes/aligned_bre_files_merged_remeshed_decimated.obj\")\n",
    "mesh = trimesh.load(\"meshes/aligned_bre_files_merged_remeshed.obj\")\n",
    "\n",
    "# Extract vertices and faces\n",
    "V_decimated = np.array(mesh_decimated.vertices)\n",
    "F_decimated = np.array(mesh_decimated.faces)\n",
    "V = np.array(mesh.vertices)\n",
    "F = np.array(mesh.faces)"
   ]
  },
  {
   "cell_type": "code",
   "execution_count": null,
   "metadata": {},
   "outputs": [],
   "source": [
    "ps.init()\n",
    "ps_mesh = ps.register_surface_mesh(\"Decimated\", V_decimated, F_decimated)\n",
    "ps_mesh2 = ps.register_surface_mesh(\"Original\", V, F)\n",
    "ps.show()"
   ]
  },
  {
   "cell_type": "code",
   "execution_count": 2,
   "metadata": {},
   "outputs": [],
   "source": [
    "def calculate_bounding_box(file_path):\n",
    "    # Load the mesh from the file\n",
    "    mesh = trimesh.load(file_path)\n",
    "\n",
    "    # Calculate the bounding box\n",
    "    bounding_box = mesh.bounds\n",
    "\n",
    "    # Extract min and max coordinates\n",
    "    min_coords = bounding_box[0]\n",
    "    max_coords = bounding_box[1]\n",
    "\n",
    "    # Format the bounding box\n",
    "    bbox_format = \"X: [{:.6f}, {:.6f}]\\nY: [{:.6f}, {:.6f}]\\nZ: [{:.6f}, {:.6f}]\"\n",
    "    formatted_bbox = bbox_format.format(min_coords[0], max_coords[0], min_coords[1], max_coords[1], min_coords[2], max_coords[2])\n",
    "\n",
    "    return formatted_bbox\n"
   ]
  },
  {
   "cell_type": "code",
   "execution_count": 3,
   "metadata": {},
   "outputs": [
    {
     "name": "stdout",
     "output_type": "stream",
     "text": [
      "X: [0.249766, 0.348593]\n",
      "Y: [0.200077, 0.358379]\n",
      "Z: [-7.906155, -7.797530]\n"
     ]
    }
   ],
   "source": [
    "# Replace 'your_file.obj' with the path to your OBJ file\n",
    "file_path = 'meshes/bunny_ultra_high_depth_map_decimated_50k.obj'\n",
    "bounding_box = calculate_bounding_box(file_path)\n",
    "print(bounding_box)"
   ]
  },
  {
   "cell_type": "code",
   "execution_count": null,
   "metadata": {},
   "outputs": [],
   "source": []
  }
 ],
 "metadata": {
  "kernelspec": {
   "display_name": "Python 3",
   "language": "python",
   "name": "python3"
  },
  "language_info": {
   "codemirror_mode": {
    "name": "ipython",
    "version": 3
   },
   "file_extension": ".py",
   "mimetype": "text/x-python",
   "name": "python",
   "nbconvert_exporter": "python",
   "pygments_lexer": "ipython3",
   "version": "3.12.2"
  }
 },
 "nbformat": 4,
 "nbformat_minor": 2
}
