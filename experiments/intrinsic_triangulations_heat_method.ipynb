{
 "cells": [
  {
   "cell_type": "code",
   "execution_count": 1,
   "metadata": {},
   "outputs": [],
   "source": [
    "import numpy as np\n",
    "import intrinsic_triangulations_completed_tutorial as itri\n",
    "import trimesh\n",
    "import polyscope as ps"
   ]
  },
  {
   "cell_type": "code",
   "execution_count": 2,
   "metadata": {},
   "outputs": [
    {
     "name": "stdout",
     "output_type": "stream",
     "text": [
      "Initial mesh:\n",
      "  n_verts = 3992\n",
      "  n_faces = 8000\n",
      "  surface area = 58.13005293525051\n",
      "  is Delaunay = False\n"
     ]
    }
   ],
   "source": [
    "mesh = trimesh.load(\"meshes/pegasus.obj\")\n",
    "\n",
    "# Extract vertices and faces\n",
    "source_vert = 1669 # taken from package itri\n",
    "V = np.array(mesh.vertices)\n",
    "F = np.array(mesh.faces)\n",
    "G = itri.build_gluing_map(F)\n",
    "l = itri.build_edge_lengths(V, F)\n",
    "\n",
    "print(\"Initial mesh:\")\n",
    "itri.print_info(F, G, l)"
   ]
  },
  {
   "cell_type": "code",
   "execution_count": 3,
   "metadata": {},
   "outputs": [
    {
     "name": "stdout",
     "output_type": "stream",
     "text": [
      "After Delaunay flips:\n",
      "  n_verts = 3992\n",
      "  n_faces = 8000\n",
      "  surface area = 58.13005293525065\n",
      "  is Delaunay = True\n"
     ]
    }
   ],
   "source": [
    "F_delaunay = F.copy()\n",
    "G_delaunay = G.copy()\n",
    "l_delaunay = l.copy()\n",
    "itri.flip_to_delaunay(F_delaunay, G_delaunay, l_delaunay)\n",
    "\n",
    "print(\"After Delaunay flips:\")\n",
    "itri.print_info(F_delaunay, G_delaunay, l_delaunay)"
   ]
  },
  {
   "cell_type": "code",
   "execution_count": 4,
   "metadata": {},
   "outputs": [
    {
     "name": "stdout",
     "output_type": "stream",
     "text": [
      "computing distance on original triangulation...\n",
      "computing distance on Delaunay triangulation...\n"
     ]
    }
   ],
   "source": [
    "# Compute distance using the heat method, both before and after flipping\n",
    "print(\"computing distance on original triangulation...\")\n",
    "dists_before = itri.heat_method_distance_from_vertex(F, l, source_vert)\n",
    "\n",
    "print(\"computing distance on Delaunay triangulation...\")\n",
    "dists_after = itri.heat_method_distance_from_vertex(\n",
    "    F_delaunay, l_delaunay, source_vert\n",
    ")"
   ]
  },
  {
   "cell_type": "code",
   "execution_count": 5,
   "metadata": {},
   "outputs": [],
   "source": [
    "ps.init()\n",
    "ps_mesh = ps.register_surface_mesh(\"Mesh\", V, F)\n",
    "ps_mesh.add_distance_quantity(\n",
    "    \"Distance on initial triangulation\", dists_before, enabled=True\n",
    ")\n",
    "\n",
    "ps_mesh2 = ps.register_surface_mesh(\"Same Mesh\", V, F)\n",
    "ps_mesh2.add_distance_quantity(\n",
    "    \"Distance after Delaunay flips\", dists_after, enabled=True\n",
    ")\n",
    "ps.show()"
   ]
  },
  {
   "cell_type": "markdown",
   "metadata": {},
   "source": [
    "Now the same experiment with the terrain mesh."
   ]
  },
  {
   "cell_type": "code",
   "execution_count": 6,
   "metadata": {},
   "outputs": [
    {
     "name": "stdout",
     "output_type": "stream",
     "text": [
      "Initial mesh:\n",
      "  n_verts = 8192\n",
      "  n_faces = 16380\n",
      "  surface area = 12.4450457318128\n",
      "  is Delaunay = False\n",
      "After Delaunay flips:\n",
      "  n_verts = 8192\n",
      "  n_faces = 16380\n",
      "  surface area = 12.445045731812813\n",
      "  is Delaunay = True\n",
      "computing distance on original triangulation...\n",
      "computing distance on Delaunay triangulation...\n"
     ]
    }
   ],
   "source": [
    "mesh = trimesh.load(\"meshes/terrain8k.obj\")\n",
    "\n",
    "# Extract vertices and faces\n",
    "source_vert = 2894 # taken from package itri\n",
    "V = np.array(mesh.vertices)\n",
    "F = np.array(mesh.faces)\n",
    "G = itri.build_gluing_map(F)\n",
    "l = itri.build_edge_lengths(V, F)\n",
    "\n",
    "print(\"Initial mesh:\")\n",
    "itri.print_info(F, G, l)\n",
    "\n",
    "F_delaunay = F.copy()\n",
    "G_delaunay = G.copy()\n",
    "l_delaunay = l.copy()\n",
    "itri.flip_to_delaunay(F_delaunay, G_delaunay, l_delaunay)\n",
    "\n",
    "print(\"After Delaunay flips:\")\n",
    "itri.print_info(F_delaunay, G_delaunay, l_delaunay)\n",
    "\n",
    "# Compute distance using the heat method, both before and after flipping\n",
    "print(\"computing distance on original triangulation...\")\n",
    "dists_before = itri.heat_method_distance_from_vertex(F, l, source_vert)\n",
    "\n",
    "print(\"computing distance on Delaunay triangulation...\")\n",
    "dists_after = itri.heat_method_distance_from_vertex(\n",
    "    F_delaunay, l_delaunay, source_vert\n",
    ")"
   ]
  },
  {
   "cell_type": "markdown",
   "metadata": {},
   "source": [
    "Conclusion:\n",
    "\n",
    "If we just perform our intrinsic Delaunay edge flips first, and then run the same experiment (i.e., computing distance using the heat method), we get a much more accurate distance solution.\n",
    "\n",
    "This is really cool!"
   ]
  },
  {
   "cell_type": "code",
   "execution_count": 7,
   "metadata": {},
   "outputs": [],
   "source": [
    "ps.init()\n",
    "ps_mesh = ps.register_surface_mesh(\"Mesh\", V, F)\n",
    "ps_mesh.add_distance_quantity(\n",
    "    \"Distance on initial triangulation\", dists_before, enabled=True\n",
    ")\n",
    "\n",
    "ps_mesh2 = ps.register_surface_mesh(\"Same Mesh\", V, F)\n",
    "ps_mesh2.add_distance_quantity(\n",
    "    \"Distance after Delaunay flips\", dists_after, enabled=True\n",
    ")\n",
    "ps.show()"
   ]
  }
 ],
 "metadata": {
  "kernelspec": {
   "display_name": "Python 3",
   "language": "python",
   "name": "python3"
  },
  "language_info": {
   "codemirror_mode": {
    "name": "ipython",
    "version": 3
   },
   "file_extension": ".py",
   "mimetype": "text/x-python",
   "name": "python",
   "nbconvert_exporter": "python",
   "pygments_lexer": "ipython3",
   "version": "3.12.2"
  }
 },
 "nbformat": 4,
 "nbformat_minor": 2
}
